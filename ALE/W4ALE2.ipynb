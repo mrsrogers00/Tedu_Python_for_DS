{
 "cells": [
  {
   "cell_type": "code",
   "execution_count": 2,
   "id": "dd00bd98",
   "metadata": {},
   "outputs": [],
   "source": [
    "import matplotlib.pyplot as plt\n",
    "import numpy as np\n",
    "import scipy\n",
    "from scipy import stats\n",
    "import pickle"
   ]
  },
  {
   "cell_type": "markdown",
   "id": "59ec64f8",
   "metadata": {},
   "source": [
    "ALE - 1\n",
    "Please do both questions:\n",
    "1) Exception Handling\n",
    "2) Classes"
   ]
  },
  {
   "cell_type": "code",
   "execution_count": null,
   "id": "42c71625",
   "metadata": {},
   "outputs": [],
   "source": [
    "#### ---- Exercise 1 ---- #####\n",
    "#### Run this cell as this cell will download some necessary files for your exercises.\n",
    "### Run the following function, do not change any line of it.\n",
    "def download_text():\n",
    "    data_url1 = 'https://raw.githubusercontent.com/karpathy/char-rnn/master/data/tinyshakespeare/input.txt'\n",
    "    text1 = requests.get(data_url)\n",
    "    with open(\"text1.txt\",\"a\") as file:\n",
    "        file.write(text1.text)\n",
    "    with open(\"text2.txt\",\"a\") as file:\n",
    "        file.write(text2.text)\n",
    "    return a.text\n",
    "try:\n",
    "    text = download_text()\n",
    "    print(\"Text downloaded succesfully!!\")\n",
    "except Exception as a:\n",
    "  print(a)"
   ]
  },
  {
   "cell_type": "markdown",
   "id": "bc59c711",
   "metadata": {},
   "source": [
    "# 1) Write a function f, that reads a txt file, and converts every uppercase letter to an lowercase letter. In the case that this txt file contains a numeric letter this function should throw a type error."
   ]
  },
  {
   "cell_type": "code",
   "execution_count": null,
   "id": "f549f571",
   "metadata": {},
   "outputs": [],
   "source": [
    "def read_txt(file_name:str) -> str:\n",
    "    ## Your code here\n",
    "    return None"
   ]
  },
  {
   "cell_type": "code",
   "execution_count": null,
   "id": "b7f2a385",
   "metadata": {},
   "outputs": [],
   "source": [
    "### Graded Cell A32\n",
    "### Do not change anything below\n",
    "assert True\n",
    "assert True\n",
    "assert True"
   ]
  },
  {
   "cell_type": "markdown",
   "id": "88583d5f",
   "metadata": {},
   "source": [
    "# Write a dice class that emulates a pair of dice.\n",
    "# Your class should contain the following methods\n",
    "# roll -> rolls the pair and returns the outcomes in a tuple\n",
    "# sum -> ross the pair and return the sum of outcomes\n",
    "# roll_n_times -> rolls the pair n_times and returns the outcomes in list of tuples\n",
    "# You should consider the probability that the dice are not fair, therefore in the initialization process add two arguments p_1 and p_2 that give probabilities of landing each face of dice respectively. For instance\n",
    "# p_1 = [1/6, 1/6, 1/6, 1/6, 1/6, 1/6]\n",
    "# p_2 = [1/6, 1/6, 1/6, 1/6, 1/6, 1/6] both dice are fair,\n",
    "# --------------------------------------------------------------------------\n",
    "# p_1 = [2/12, 5/12, 2/12, 1/12, 1/12, 1/12]  --> this guy lands 2 with probability 5/12,\n",
    "# p_2 = [1/8, 1/8, 1/4, 1/4, 1/8, 1/8] --> this guy lands 3, 4 with probability  1/4 and the rest 1/8,\n",
    "# If any of the p_1 or p_2 are not specified then, __init__ function should assume that corresponding dice are fair."
   ]
  },
  {
   "cell_type": "code",
   "execution_count": 3,
   "id": "6a839d0a",
   "metadata": {},
   "outputs": [],
   "source": [
    "class dice:\n",
    "    def __init__(self, p_1 = None, p_2 = None):\n",
    "        pass\n",
    "    \n"
   ]
  },
  {
   "cell_type": "code",
   "execution_count": null,
   "id": "f62c45fe",
   "metadata": {},
   "outputs": [],
   "source": [
    "### Graded Cell A23, Do not change anything below, as this may cause compiler to crash.\n",
    "np.random.seed(10)\n",
    "assert True\n",
    "assert True\n",
    "assert True"
   ]
  }
 ],
 "metadata": {
  "kernelspec": {
   "display_name": "Python 3 (ipykernel)",
   "language": "python",
   "name": "python3"
  },
  "language_info": {
   "codemirror_mode": {
    "name": "ipython",
    "version": 3
   },
   "file_extension": ".py",
   "mimetype": "text/x-python",
   "name": "python",
   "nbconvert_exporter": "python",
   "pygments_lexer": "ipython3",
   "version": "3.9.12"
  }
 },
 "nbformat": 4,
 "nbformat_minor": 5
}
