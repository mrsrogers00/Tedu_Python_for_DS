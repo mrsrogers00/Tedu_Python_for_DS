{
 "cells": [
  {
   "cell_type": "code",
   "execution_count": null,
   "id": "32913dfa",
   "metadata": {},
   "outputs": [],
   "source": [
    "#### Some necessary libraries to be imported, \n",
    "import request\n",
    "import os\n",
    "import math"
   ]
  },
  {
   "cell_type": "markdown",
   "id": "38f66337",
   "metadata": {},
   "source": [
    "## There are two seperate exercises the first one is just for fun while the latter is a bit serious"
   ]
  },
  {
   "cell_type": "code",
   "execution_count": null,
   "id": "7101f49b",
   "metadata": {},
   "outputs": [],
   "source": [
    "#### ---- Exercise 1 ---- #####\n",
    "#### Before we got started please Google : Erdos Multiplication Table Problem\n",
    "#### The question is How many unique numbers are there in an n x n multiplication table?\n",
    "#### Call such number M(n), implement following function returning the number of unique integers in an n x n multiplication table"
   ]
  },
  {
   "cell_type": "code",
   "execution_count": null,
   "id": "45d593b4",
   "metadata": {},
   "outputs": [],
   "source": [
    "def M(n:int) -> int:\n",
    "    # Your code here!\n",
    "    return None"
   ]
  },
  {
   "cell_type": "code",
   "execution_count": null,
   "id": "2f6f4892",
   "metadata": {},
   "outputs": [],
   "source": [
    "### Run this cell to see if you coded the right function, please mind the error messages.\n",
    "### Graded Cell A12 - Do not change anything below, as this will cause compiler to crash\n",
    "assert isinstance(M(3), int), \"Your function should return an integer!!!\"\n",
    "assert M(4) == 9 and M(5) == 14, \"Check your implementation mate, I am asking you to return the unique ones!!!\"\n",
    "print(\"You got it mate, you got it, all tests passed successfulllly!!! Grab a cup of coffee!!!\")"
   ]
  },
  {
   "cell_type": "code",
   "execution_count": null,
   "id": "d91feb32",
   "metadata": {},
   "outputs": [],
   "source": [
    "#### ---- Exercise 2 ---- #####\n",
    "#### Some NLP stuff we will be doing now, the following function will dowload all work of Shakespeare\n",
    "def download_text():\n",
    "    data_url = 'https://raw.githubusercontent.com/karpathy/char-rnn/master/data/tinyshakespeare/input.txt'\n",
    "    a = requests.get(data_url)\n",
    "    return a.text\n",
    "try:\n",
    "    text = download_text()\n",
    "    print(\"Text download succesfully!!\")\n",
    "except Exception:\n",
    "    "
   ]
  },
  {
   "cell_type": "code",
   "execution_count": null,
   "id": "25c73835",
   "metadata": {},
   "outputs": [],
   "source": [
    "### Here is an example from this text: (Run this cell!)\n",
    "print(text[:1000])"
   ]
  },
  {
   "cell_type": "code",
   "execution_count": 137,
   "id": "3f039f61",
   "metadata": {},
   "outputs": [],
   "source": [
    "#### First Sub-Exercise:\n",
    "### Implement the following function returning the list of unique characters in this text.\n",
    "def unique_chars(text:str) -> list:\n",
    "    ###Your code here\n",
    "    return None"
   ]
  },
  {
   "cell_type": "code",
   "execution_count": 139,
   "id": "05c3f584",
   "metadata": {},
   "outputs": [
    {
     "name": "stdout",
     "output_type": "stream",
     "text": [
      "Go ahead homiee, do not stop!!! All tests passed successfully!!!!\n"
     ]
    }
   ],
   "source": [
    "### Run this cell to see if you coded the right function, please mind the error messages.\n",
    "### Graded Cell A12 - Do not change anything below, as this will cause compiler to crash\n",
    "assert isinstance(unique_chars(text), list), \"Your function should return a list\"\n",
    "assert len(unique_chars(text))== 65 and unique_chars(text)[0] == 'z', \"Check your implementation mate!!!\"\n",
    "print(\"Go ahead homiee, do not stop!!! All tests passed successfully!!!!\")"
   ]
  },
  {
   "cell_type": "code",
   "execution_count": 37,
   "id": "a9fbdb49",
   "metadata": {},
   "outputs": [
    {
     "data": {
      "text/plain": [
       "['I', 'think', 'therefore,', 'I', 'am']"
      ]
     },
     "execution_count": 37,
     "metadata": {},
     "output_type": "execute_result"
    }
   ],
   "source": [
    "## Before jumping to next sub-exercise, please Google the terms \"escape characters\" and \"white space\".\n",
    "## Tokenization of a text is a real serious stuff, here we will do very simple version of it, for instance: \n",
    "string = \"I think therefore, I am\"\n",
    "string.split()  ### this guy splits (tokenizes) this string at white spaces."
   ]
  },
  {
   "cell_type": "code",
   "execution_count": 105,
   "id": "d29100e6",
   "metadata": {},
   "outputs": [
    {
     "data": {
      "text/plain": [
       "'i think therefore, i am!!'"
      ]
     },
     "execution_count": 105,
     "metadata": {},
     "output_type": "execute_result"
    }
   ],
   "source": [
    "## You can lower the alphabetic chars in a string as follows:\n",
    "string = \"I Think Therefore, I AM!!\"\n",
    "string.lower()  ### lowered."
   ]
  },
  {
   "cell_type": "code",
   "execution_count": 178,
   "id": "a5b9b966",
   "metadata": {},
   "outputs": [],
   "source": [
    "#### Second Sub-Exercise:\n",
    "### Implement the following function returning (as a tuple)\n",
    "### a tuple: a list of lower cased unique tokens, a list of lower cased tokens.\n",
    "### In doing so please use, .split() function, and .lower() function.\n",
    "def lower_cased_tokens(text:str) -> tuple:\n",
    "    ###Your code here\n",
    "    return list(set(text.lower().split())), text.lower().split()"
   ]
  },
  {
   "cell_type": "code",
   "execution_count": 190,
   "id": "a037ddc7",
   "metadata": {},
   "outputs": [
    {
     "name": "stdout",
     "output_type": "stream",
     "text": [
      "All tests passed successfully!!!! You are done with this assignment that serves not purpose at all!!!\n"
     ]
    }
   ],
   "source": [
    "### Run this cell to see if you coded the right function in the right way, please mind the error messages.\n",
    "### There are some helper functions, do not spend time attempting to understand their behaviour.\n",
    "### Graded Cell A13 - Do not change anything below, as this will cause compiler to crash!!!!!\n",
    "### Begining of helper functions -- No need to read the functions below ---- ###\n",
    "def check(s:str) -> bool:\n",
    "    l = True\n",
    "    for char in s:\n",
    "        if char.isalpha():\n",
    "            if not char.islower():\n",
    "                l = False\n",
    "                break\n",
    "        else:\n",
    "            continue ## do nothing\n",
    "    return l\n",
    "def check_(text:list)-> bool:\n",
    "    l = True\n",
    "    ### This dude is an iterator!!!!\n",
    "    for str_ in text:\n",
    "        if not check(str_):\n",
    "            l = False\n",
    "            break\n",
    "        ### for visualizalization purposes\n",
    "        \n",
    "    return l\n",
    "###  End of helper functions ####\n",
    "victim = lower_cased_tokens(text)\n",
    "checked_ = check_(victim[0])\n",
    "### Some unit tests ### \n",
    "assert isinstance(victim, tuple), f\"Lower cased unique tokens function should return a tuple, while yours is returning {type(victim)}\"\n",
    "assert len(victim[0]) == 23641, f\"Are you sure that your function is returning the unique tokens there should 23641 many of them while yours is {len(victim[0])}\"\n",
    "assert checked_, \"Something went wrong pal! Check with letters not all letters are lowered\"\n",
    "print(\"All tests passed successfully!!!! You are done with this assignment that serves not purpose at all!!!\")"
   ]
  },
  {
   "cell_type": "code",
   "execution_count": 181,
   "id": "e2ca6601",
   "metadata": {},
   "outputs": [],
   "source": [
    "### Below you will implement a function that returns token frequencies in a dictionary, \n",
    "### feel free to code as you like,\n",
    "def token_freq(text:str)->dict:\n",
    "    # Your code here!!!\n",
    "    return None"
   ]
  },
  {
   "cell_type": "code",
   "execution_count": 191,
   "id": "1ca0791d",
   "metadata": {},
   "outputs": [
    {
     "name": "stdout",
     "output_type": "stream",
     "text": [
      "All tests passed successfully!!!! How do you feel now?\n"
     ]
    }
   ],
   "source": [
    "### Run this cell to see if you coded the right function in the right way, please mind the error messages.\n",
    "### There are some helper functions, do not spend time attempting to understand their behaviour.\n",
    "### Graded Cell A14 - Do not change anything below, as this will cause compiler to crash!!!!!\n",
    "### Begining of helper functions -- No need to read the functions below ---- ###\n",
    "V = token_freq(text)\n",
    "assert isinstance(V, dict), \"This function should return a dictionary\"\n",
    "assert sum(V.values()) == len(lower_cased_tokens(text)[1]) and len(token_freq(text)) == 23641, \"You sure about you really count tokens?\"\n",
    "print(\"All tests passed successfully!!!! How do you feel now?\")"
   ]
  },
  {
   "cell_type": "code",
   "execution_count": null,
   "id": "5765d945",
   "metadata": {},
   "outputs": [],
   "source": [
    "### Below you will implement a function that returns most repeated top_k tokens, \n",
    "### No tests for this function, feel free to code as you like\n",
    "### No grade will be given, because it is a challanging stuff\n",
    "def most_repeated_tokens(text:str, top_k = 10)->dict:\n",
    "    # Your code here!!!\n",
    "    return None"
   ]
  }
 ],
 "metadata": {
  "kernelspec": {
   "display_name": "Python 3 (ipykernel)",
   "language": "python",
   "name": "python3"
  },
  "language_info": {
   "codemirror_mode": {
    "name": "ipython",
    "version": 3
   },
   "file_extension": ".py",
   "mimetype": "text/x-python",
   "name": "python",
   "nbconvert_exporter": "python",
   "pygments_lexer": "ipython3",
   "version": "3.9.12"
  }
 },
 "nbformat": 4,
 "nbformat_minor": 5
}
