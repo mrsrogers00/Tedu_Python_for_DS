{
 "cells": [
  {
   "cell_type": "code",
   "execution_count": 1,
   "id": "b3d46954",
   "metadata": {},
   "outputs": [],
   "source": [
    "x = 2 \n",
    "## integers\n",
    "##floats\n",
    "### lists\n",
    "### dict\n",
    "### tuples"
   ]
  },
  {
   "cell_type": "code",
   "execution_count": 3,
   "id": "95d07b52",
   "metadata": {},
   "outputs": [
    {
     "data": {
      "text/plain": [
       "['__abs__',\n",
       " '__add__',\n",
       " '__and__',\n",
       " '__bool__',\n",
       " '__ceil__',\n",
       " '__class__',\n",
       " '__delattr__',\n",
       " '__dir__',\n",
       " '__divmod__',\n",
       " '__doc__',\n",
       " '__eq__',\n",
       " '__float__',\n",
       " '__floor__',\n",
       " '__floordiv__',\n",
       " '__format__',\n",
       " '__ge__',\n",
       " '__getattribute__',\n",
       " '__getnewargs__',\n",
       " '__gt__',\n",
       " '__hash__',\n",
       " '__index__',\n",
       " '__init__',\n",
       " '__init_subclass__',\n",
       " '__int__',\n",
       " '__invert__',\n",
       " '__le__',\n",
       " '__lshift__',\n",
       " '__lt__',\n",
       " '__mod__',\n",
       " '__mul__',\n",
       " '__ne__',\n",
       " '__neg__',\n",
       " '__new__',\n",
       " '__or__',\n",
       " '__pos__',\n",
       " '__pow__',\n",
       " '__radd__',\n",
       " '__rand__',\n",
       " '__rdivmod__',\n",
       " '__reduce__',\n",
       " '__reduce_ex__',\n",
       " '__repr__',\n",
       " '__rfloordiv__',\n",
       " '__rlshift__',\n",
       " '__rmod__',\n",
       " '__rmul__',\n",
       " '__ror__',\n",
       " '__round__',\n",
       " '__rpow__',\n",
       " '__rrshift__',\n",
       " '__rshift__',\n",
       " '__rsub__',\n",
       " '__rtruediv__',\n",
       " '__rxor__',\n",
       " '__setattr__',\n",
       " '__sizeof__',\n",
       " '__str__',\n",
       " '__sub__',\n",
       " '__subclasshook__',\n",
       " '__truediv__',\n",
       " '__trunc__',\n",
       " '__xor__',\n",
       " 'as_integer_ratio',\n",
       " 'bit_length',\n",
       " 'conjugate',\n",
       " 'denominator',\n",
       " 'from_bytes',\n",
       " 'imag',\n",
       " 'numerator',\n",
       " 'real',\n",
       " 'to_bytes']"
      ]
     },
     "execution_count": 3,
     "metadata": {},
     "output_type": "execute_result"
    }
   ],
   "source": [
    "dir(x)## to see attributes and methods"
   ]
  },
  {
   "cell_type": "code",
   "execution_count": null,
   "id": "374832e1",
   "metadata": {},
   "outputs": [],
   "source": [
    "### How do we create (initiate)  objects in python? \n",
    "### This usually happens by means of classes"
   ]
  },
  {
   "cell_type": "code",
   "execution_count": 4,
   "id": "49823b5e",
   "metadata": {},
   "outputs": [],
   "source": [
    "def f(x):\n",
    "    pass\n"
   ]
  },
  {
   "cell_type": "code",
   "execution_count": 5,
   "id": "f22d7aa5",
   "metadata": {},
   "outputs": [],
   "source": [
    "a = [] ### in"
   ]
  },
  {
   "cell_type": "code",
   "execution_count": 15,
   "id": "ffaf3e12",
   "metadata": {},
   "outputs": [
    {
     "data": {
      "text/plain": [
       "['__add__',\n",
       " '__class__',\n",
       " '__class_getitem__',\n",
       " '__contains__',\n",
       " '__delattr__',\n",
       " '__delitem__',\n",
       " '__dir__',\n",
       " '__doc__',\n",
       " '__eq__',\n",
       " '__format__',\n",
       " '__ge__',\n",
       " '__getattribute__',\n",
       " '__getitem__',\n",
       " '__gt__',\n",
       " '__hash__',\n",
       " '__iadd__',\n",
       " '__imul__',\n",
       " '__init__',\n",
       " '__init_subclass__',\n",
       " '__iter__',\n",
       " '__le__',\n",
       " '__len__',\n",
       " '__lt__',\n",
       " '__mul__',\n",
       " '__ne__',\n",
       " '__new__',\n",
       " '__reduce__',\n",
       " '__reduce_ex__',\n",
       " '__repr__',\n",
       " '__reversed__',\n",
       " '__rmul__',\n",
       " '__setattr__',\n",
       " '__setitem__',\n",
       " '__sizeof__',\n",
       " '__str__',\n",
       " '__subclasshook__',\n",
       " 'append',\n",
       " 'clear',\n",
       " 'copy',\n",
       " 'count',\n",
       " 'extend',\n",
       " 'index',\n",
       " 'insert',\n",
       " 'pop',\n",
       " 'remove',\n",
       " 'reverse',\n",
       " 'sort']"
      ]
     },
     "execution_count": 15,
     "metadata": {},
     "output_type": "execute_result"
    }
   ],
   "source": [
    "dir(a)"
   ]
  },
  {
   "cell_type": "code",
   "execution_count": 21,
   "id": "3f7163ff",
   "metadata": {},
   "outputs": [],
   "source": [
    "a.append(\"sd\")"
   ]
  },
  {
   "cell_type": "code",
   "execution_count": 22,
   "id": "d2202195",
   "metadata": {},
   "outputs": [
    {
     "data": {
      "text/plain": [
       "['sd']"
      ]
     },
     "execution_count": 22,
     "metadata": {},
     "output_type": "execute_result"
    }
   ],
   "source": [
    "a"
   ]
  },
  {
   "cell_type": "code",
   "execution_count": null,
   "id": "59f9ade0",
   "metadata": {},
   "outputs": [],
   "source": []
  },
  {
   "cell_type": "code",
   "execution_count": 7,
   "id": "b5040df6",
   "metadata": {},
   "outputs": [
    {
     "data": {
      "text/plain": [
       "True"
      ]
     },
     "execution_count": 7,
     "metadata": {},
     "output_type": "execute_result"
    }
   ],
   "source": [
    "isinstance(b, tuple)"
   ]
  },
  {
   "cell_type": "code",
   "execution_count": 41,
   "id": "c24d398c",
   "metadata": {},
   "outputs": [],
   "source": [
    "class car:\n",
    "    def __init__(self, brand, power, color, gear):\n",
    "        self.brand = brand\n",
    "        self.power = power\n",
    "        self.color = color\n",
    "        self.gear = gear\n",
    "    \n",
    "    #def forward\n",
    "    #def left\n",
    "    #def right\n",
    "    #def back\n",
    "    #def turn_on_lights\n",
    "    #def break\n",
    "    \n",
    "    \n",
    "    \n",
    "    "
   ]
  },
  {
   "cell_type": "code",
   "execution_count": 42,
   "id": "f85c3e1b",
   "metadata": {},
   "outputs": [],
   "source": [
    "CAR = car(\"Toyota\", 10, \"red\",\"automatic\")  ### Car object with attributes bradn power color"
   ]
  },
  {
   "cell_type": "code",
   "execution_count": 37,
   "id": "36f23f9d",
   "metadata": {},
   "outputs": [
    {
     "data": {
      "text/plain": [
       "'Toyota'"
      ]
     },
     "execution_count": 37,
     "metadata": {},
     "output_type": "execute_result"
    }
   ],
   "source": [
    "CAR.return_brand()"
   ]
  },
  {
   "cell_type": "code",
   "execution_count": 38,
   "id": "b4952cc2",
   "metadata": {},
   "outputs": [
    {
     "name": "stdout",
     "output_type": "stream",
     "text": [
      "You changed the power of your car!!!!\n"
     ]
    }
   ],
   "source": [
    "CAR.raise_hp(100)"
   ]
  },
  {
   "cell_type": "code",
   "execution_count": 33,
   "id": "c3dd4512",
   "metadata": {},
   "outputs": [
    {
     "data": {
      "text/plain": [
       "100"
      ]
     },
     "execution_count": 33,
     "metadata": {},
     "output_type": "execute_result"
    }
   ],
   "source": [
    "CAR.power"
   ]
  },
  {
   "cell_type": "code",
   "execution_count": 39,
   "id": "45bc450c",
   "metadata": {},
   "outputs": [
    {
     "data": {
      "text/plain": [
       "'Car stopped'"
      ]
     },
     "execution_count": 39,
     "metadata": {},
     "output_type": "execute_result"
    }
   ],
   "source": [
    "CAR.stop_car()"
   ]
  },
  {
   "cell_type": "code",
   "execution_count": 47,
   "id": "d82e39f8",
   "metadata": {},
   "outputs": [],
   "source": [
    "class new_car(car):\n",
    "    def __init__(self, brand, power, color, gear):\n",
    "        super().__init__(brand, power, color, gear) ### \n",
    "    def forward(self):\n",
    "        print(\"Go forward\")\n",
    "    def left(self):\n",
    "        print(\"Turn left\")\n",
    "    def right(self):\n",
    "        print(\"Turn right\")\n",
    "    \n",
    "        "
   ]
  },
  {
   "cell_type": "code",
   "execution_count": 50,
   "id": "bf34d7ea",
   "metadata": {},
   "outputs": [],
   "source": [
    "new_car_ = new_car(\"Toyota\", 10, \"red\",\"automatic\")  ### This is what is called inheritance.... we inherited some attributes from car \n",
    "#class"
   ]
  },
  {
   "cell_type": "code",
   "execution_count": 51,
   "id": "1ff1de1e",
   "metadata": {},
   "outputs": [],
   "source": [
    "import numpy as np"
   ]
  },
  {
   "cell_type": "code",
   "execution_count": 120,
   "id": "399792ea",
   "metadata": {},
   "outputs": [],
   "source": [
    "####Let's create a class of coins with some methods\n",
    "#### attributes: p the probability that you get tails\n",
    "#### methods: flip it once, or maybe more than once\n",
    "class coin:\n",
    "    def __init__(self, p):\n",
    "        assert 0<= p <= 1, \"p is a probability value\"\n",
    "        self.p = p\n",
    "    def fliponce(self):  ### all methods can communicate with each other.\n",
    "        self.C = [\"h\",\"t\"]\n",
    "        return np.random.choice(self.C, p = [self.p, 1 - self.p])\n",
    "    def flip(self, n):\n",
    "        return [self.fliponce() for _ in range(n)]\n",
    "    \n",
    "    def flip_num(self, n):\n",
    "        return np.array([np.random.choice([1,0], p = [self.p, 1 - self.p]) for _ in range(n)])\n"
   ]
  },
  {
   "cell_type": "code",
   "execution_count": 121,
   "id": "000604eb",
   "metadata": {},
   "outputs": [],
   "source": [
    "Coin = coin(0.2)  ### this coin is a fair coin"
   ]
  },
  {
   "cell_type": "code",
   "execution_count": 122,
   "id": "4d7ea884",
   "metadata": {},
   "outputs": [
    {
     "data": {
      "text/plain": [
       "'t'"
      ]
     },
     "execution_count": 122,
     "metadata": {},
     "output_type": "execute_result"
    }
   ],
   "source": [
    "Coin.fliponce()"
   ]
  },
  {
   "cell_type": "code",
   "execution_count": 123,
   "id": "807cd8f2",
   "metadata": {},
   "outputs": [
    {
     "data": {
      "text/plain": [
       "['t',\n",
       " 'h',\n",
       " 'h',\n",
       " 't',\n",
       " 't',\n",
       " 't',\n",
       " 'h',\n",
       " 'h',\n",
       " 'h',\n",
       " 'h',\n",
       " 't',\n",
       " 't',\n",
       " 't',\n",
       " 't',\n",
       " 't',\n",
       " 't',\n",
       " 't',\n",
       " 'h',\n",
       " 't',\n",
       " 'h',\n",
       " 'h',\n",
       " 'h',\n",
       " 't',\n",
       " 't',\n",
       " 't',\n",
       " 't',\n",
       " 't',\n",
       " 't',\n",
       " 'h',\n",
       " 't',\n",
       " 'h',\n",
       " 't',\n",
       " 't',\n",
       " 't',\n",
       " 't',\n",
       " 't',\n",
       " 't',\n",
       " 'h',\n",
       " 't',\n",
       " 't',\n",
       " 'h',\n",
       " 't',\n",
       " 't',\n",
       " 't',\n",
       " 'h',\n",
       " 't',\n",
       " 'h',\n",
       " 'h',\n",
       " 't',\n",
       " 't',\n",
       " 't',\n",
       " 't',\n",
       " 't',\n",
       " 'h',\n",
       " 't',\n",
       " 't',\n",
       " 't',\n",
       " 'h',\n",
       " 't',\n",
       " 't',\n",
       " 't',\n",
       " 't',\n",
       " 'h',\n",
       " 'h',\n",
       " 't',\n",
       " 't',\n",
       " 't',\n",
       " 'h',\n",
       " 't',\n",
       " 'h',\n",
       " 'h',\n",
       " 't',\n",
       " 't',\n",
       " 't',\n",
       " 't',\n",
       " 't',\n",
       " 't',\n",
       " 't',\n",
       " 't',\n",
       " 't',\n",
       " 't',\n",
       " 't',\n",
       " 't',\n",
       " 't',\n",
       " 't',\n",
       " 'h',\n",
       " 't',\n",
       " 't',\n",
       " 'h',\n",
       " 'h',\n",
       " 'h',\n",
       " 'h',\n",
       " 't',\n",
       " 't',\n",
       " 't',\n",
       " 't',\n",
       " 't',\n",
       " 't',\n",
       " 't',\n",
       " 't']"
      ]
     },
     "execution_count": 123,
     "metadata": {},
     "output_type": "execute_result"
    }
   ],
   "source": [
    "Coin.flip(100)"
   ]
  },
  {
   "cell_type": "code",
   "execution_count": 108,
   "id": "15a2e34a",
   "metadata": {},
   "outputs": [],
   "source": [
    "Coin_ = coin(0.5)"
   ]
  },
  {
   "cell_type": "code",
   "execution_count": 110,
   "id": "072d01ab",
   "metadata": {},
   "outputs": [
    {
     "data": {
      "text/plain": [
       "52"
      ]
     },
     "execution_count": 110,
     "metadata": {},
     "output_type": "execute_result"
    }
   ],
   "source": [
    "sum(Coin_.flip_num(100))"
   ]
  },
  {
   "cell_type": "code",
   "execution_count": null,
   "id": "c581e551",
   "metadata": {},
   "outputs": [],
   "source": []
  }
 ],
 "metadata": {
  "kernelspec": {
   "display_name": "Python 3 (ipykernel)",
   "language": "python",
   "name": "python3"
  },
  "language_info": {
   "codemirror_mode": {
    "name": "ipython",
    "version": 3
   },
   "file_extension": ".py",
   "mimetype": "text/x-python",
   "name": "python",
   "nbconvert_exporter": "python",
   "pygments_lexer": "ipython3",
   "version": "3.9.12"
  }
 },
 "nbformat": 4,
 "nbformat_minor": 5
}
