{
  "nbformat": 4,
  "nbformat_minor": 0,
  "metadata": {
    "colab": {
      "provenance": []
    },
    "kernelspec": {
      "name": "python3",
      "display_name": "Python 3"
    },
    "language_info": {
      "name": "python"
    }
  },
  "cells": [
    {
      "cell_type": "markdown",
      "source": [
        "[![Open in Colab](https://colab.research.google.com/assets/colab-badge.svg)](https://colab.research.google.com/github/y-akbal/Tedu_Python_for_DS/blob/main/1/W3.ipynb)\n"
      ],
      "metadata": {
        "id": "43ErvjC2wMzs"
      }
    },
    {
      "cell_type": "code",
      "execution_count": 1,
      "metadata": {
        "id": "nQoeX71JwL-R"
      },
      "outputs": [],
      "source": [
        "def function(x:int) -> list:  ### good practice to hint your types\n",
        "  ## Do something here\n",
        "  return None"
      ]
    },
    {
      "cell_type": "code",
      "source": [
        "f = lambda x: x**2  ###f(x) = x**2"
      ],
      "metadata": {
        "id": "sK4Nvc6EyEXK"
      },
      "execution_count": 4,
      "outputs": []
    },
    {
      "cell_type": "code",
      "source": [
        "def g(x) ->function:  ### function returning another function\n",
        "  def f(t):  #### decorates the function inside (inner function)\n",
        "    return t**2 + x\n",
        "  return f"
      ],
      "metadata": {
        "id": "J7gVKPlJyaNB"
      },
      "execution_count": 6,
      "outputs": []
    },
    {
      "cell_type": "markdown",
      "source": [
        "### Last time I promised to talk about decorator functions."
      ],
      "metadata": {
        "id": "qYTAncCjyUCN"
      }
    },
    {
      "cell_type": "code",
      "source": [
        "import time\n",
        "from time import time"
      ],
      "metadata": {
        "id": "rB1x38oPyMg1"
      },
      "execution_count": 49,
      "outputs": []
    },
    {
      "cell_type": "code",
      "source": [
        "def time_(g):\n",
        "  def wrapper(x):\n",
        "    a = time()\n",
        "    l = g(x)\n",
        "    b = time()\n",
        "    print(f\"This function does its job in {b-a} secs\")\n",
        "    return l\n",
        "  return wrapper"
      ],
      "metadata": {
        "id": "bA6urzPSzCmI"
      },
      "execution_count": 50,
      "outputs": []
    },
    {
      "cell_type": "code",
      "source": [
        "@time_\n",
        "def g(x):\n",
        "  return x**2"
      ],
      "metadata": {
        "id": "wiqJ-5Q8zPAo"
      },
      "execution_count": 51,
      "outputs": []
    },
    {
      "cell_type": "code",
      "source": [
        "x = g(10)"
      ],
      "metadata": {
        "colab": {
          "base_uri": "https://localhost:8080/"
        },
        "id": "LCDVX6fyzRYu",
        "outputId": "37d13b55-5af4-4aee-a12f-bf437771dec5"
      },
      "execution_count": 53,
      "outputs": [
        {
          "output_type": "stream",
          "name": "stdout",
          "text": [
            "This function does its job in 2.6226043701171875e-06 secs\n"
          ]
        }
      ]
    },
    {
      "cell_type": "code",
      "source": [
        "x"
      ],
      "metadata": {
        "colab": {
          "base_uri": "https://localhost:8080/"
        },
        "id": "6gJmcVe50TEo",
        "outputId": "2ec7fda8-4abb-415e-9289-7a9dfce83122"
      },
      "execution_count": 54,
      "outputs": [
        {
          "output_type": "execute_result",
          "data": {
            "text/plain": [
              "100"
            ]
          },
          "metadata": {},
          "execution_count": 54
        }
      ]
    },
    {
      "cell_type": "markdown",
      "source": [
        "#The decorator functions are a bit hard to deal with, but once you get used to them they are easy peasyy."
      ],
      "metadata": {
        "id": "dKZVmApi0aSc"
      }
    },
    {
      "cell_type": "markdown",
      "source": [
        "## Let's get back to our ordinary world!!!  Let's talk about if statements...."
      ],
      "metadata": {
        "id": "HVZn2YNf0k-_"
      }
    },
    {
      "cell_type": "code",
      "source": [
        "# if somethings is true:\n",
        "#   do something\n",
        "# else:\n",
        "# in the rest of of time\n",
        "###Or maybe"
      ],
      "metadata": {
        "id": "-7J99b820wMs"
      },
      "execution_count": null,
      "outputs": []
    },
    {
      "cell_type": "code",
      "source": [
        "# if somethings is true:\n",
        "#   do something\n",
        "# elif another thing is true:\n",
        "#    do something\n",
        "# elif yet another thing is true:\n",
        "#    do something\n",
        "# else:\n",
        "#    do a final thing\n",
        "# in the rest of of time"
      ],
      "metadata": {
        "id": "YYcjpYTl0nnv"
      },
      "execution_count": null,
      "outputs": []
    },
    {
      "cell_type": "code",
      "source": [
        "N = 10 ### convention that global variables are used with uppercase latter"
      ],
      "metadata": {
        "id": "EeoXbOWs0hJU"
      },
      "execution_count": 55,
      "outputs": []
    },
    {
      "cell_type": "code",
      "source": [
        "N = 1\n",
        "if N % 2 == 0:\n",
        "  print(\"This due is an even number!!!\")\n",
        "else:\n",
        "  print(\"This dude is an odd number!!!\")"
      ],
      "metadata": {
        "colab": {
          "base_uri": "https://localhost:8080/"
        },
        "id": "NmOM4TDy1e-V",
        "outputId": "a4688fc2-cac3-4d80-d7bb-485ee5c310d8"
      },
      "execution_count": 61,
      "outputs": [
        {
          "output_type": "stream",
          "name": "stdout",
          "text": [
            "This dude is an odd number!!!\n"
          ]
        }
      ]
    },
    {
      "cell_type": "code",
      "source": [
        "if True:\n",
        "  print(\"Hello dear!!!\")"
      ],
      "metadata": {
        "colab": {
          "base_uri": "https://localhost:8080/"
        },
        "id": "FO1YiM-I1vpo",
        "outputId": "b7e1b3a3-4ae6-4b90-fe3e-a91fb28357d7"
      },
      "execution_count": 62,
      "outputs": [
        {
          "output_type": "stream",
          "name": "stdout",
          "text": [
            "Hello dear\n"
          ]
        }
      ]
    },
    {
      "cell_type": "code",
      "source": [
        "if 1:\n",
        "  print(\"Yeaap\")"
      ],
      "metadata": {
        "colab": {
          "base_uri": "https://localhost:8080/"
        },
        "id": "49DO4d_W161R",
        "outputId": "ebe20478-ac57-42ba-fc28-ecaede5df8dc"
      },
      "execution_count": 63,
      "outputs": [
        {
          "output_type": "stream",
          "name": "stdout",
          "text": [
            "Yeaap\n"
          ]
        }
      ]
    },
    {
      "cell_type": "code",
      "source": [
        "if 2: #### number other than 0 will be treated as True, but 0 will be treated as False\n",
        "  print(\"Yeaap\")"
      ],
      "metadata": {
        "colab": {
          "base_uri": "https://localhost:8080/"
        },
        "id": "hMb_xzT91-Kl",
        "outputId": "7f0fab7c-5a8d-48b9-fdf5-e39564f31039"
      },
      "execution_count": 66,
      "outputs": [
        {
          "output_type": "stream",
          "name": "stdout",
          "text": [
            "Yeaap\n"
          ]
        }
      ]
    },
    {
      "cell_type": "code",
      "source": [
        "if None: ###3 None is treated as False.\n",
        "  print(\"Yeah\")\n",
        "else:\n",
        "  print(\"Hoppa\")"
      ],
      "metadata": {
        "colab": {
          "base_uri": "https://localhost:8080/"
        },
        "id": "t5fi1lwc2ITC",
        "outputId": "c19492c7-4100-4e70-e75d-49467c3174fd"
      },
      "execution_count": 68,
      "outputs": [
        {
          "output_type": "stream",
          "name": "stdout",
          "text": [
            "Hoppa\n"
          ]
        }
      ]
    },
    {
      "cell_type": "markdown",
      "source": [
        "## Logical statements"
      ],
      "metadata": {
        "id": "k_vHvGbs2x2R"
      }
    },
    {
      "cell_type": "code",
      "source": [
        "x,y,z = True, True, False"
      ],
      "metadata": {
        "id": "iTR-yyoL2-jE"
      },
      "execution_count": 74,
      "outputs": []
    },
    {
      "cell_type": "code",
      "source": [
        "if x and y:\n",
        "  print(\"Both x and y true\")\n",
        "  "
      ],
      "metadata": {
        "colab": {
          "base_uri": "https://localhost:8080/"
        },
        "id": "INpKLkha2pJH",
        "outputId": "1a88cccc-c041-46ca-b2d4-53391ca5e6e1"
      },
      "execution_count": 76,
      "outputs": [
        {
          "output_type": "stream",
          "name": "stdout",
          "text": [
            "Both x and y true\n"
          ]
        }
      ]
    },
    {
      "cell_type": "code",
      "source": [
        "if x and z:\n",
        "  print(\"Ya sure about it?\")\n",
        "else:\n",
        "  print(\"Or at least one of the statements false\")"
      ],
      "metadata": {
        "colab": {
          "base_uri": "https://localhost:8080/"
        },
        "id": "CPdgVZw83Zqn",
        "outputId": "269fe4ff-f6cc-4656-8cee-265fddd32da1"
      },
      "execution_count": 77,
      "outputs": [
        {
          "output_type": "stream",
          "name": "stdout",
          "text": [
            "Or at least one of the statements false\n"
          ]
        }
      ]
    },
    {
      "cell_type": "code",
      "source": [
        "if x or z:\n",
        "  print(\"What is your guess??? I believe it is True\")\n",
        "else:\n",
        "  print(\"Will it give false or true???\")"
      ],
      "metadata": {
        "colab": {
          "base_uri": "https://localhost:8080/"
        },
        "id": "v8LqAxzT3p-M",
        "outputId": "0aec6183-79ab-4a0b-86d3-e3dac801a031"
      },
      "execution_count": 79,
      "outputs": [
        {
          "output_type": "stream",
          "name": "stdout",
          "text": [
            "What is your guess??? I believe it is True\n"
          ]
        }
      ]
    },
    {
      "cell_type": "code",
      "source": [
        "if not x:\n",
        "  print(\"True -> True\")\n",
        "else:\n",
        "  print(\"True -> False\")"
      ],
      "metadata": {
        "colab": {
          "base_uri": "https://localhost:8080/"
        },
        "id": "XfrkU4ja39uA",
        "outputId": "f4dde8a1-99d6-4870-aa54-a6c42e160f0c"
      },
      "execution_count": 81,
      "outputs": [
        {
          "output_type": "stream",
          "name": "stdout",
          "text": [
            "True -> False\n"
          ]
        }
      ]
    },
    {
      "cell_type": "code",
      "source": [
        "x"
      ],
      "metadata": {
        "colab": {
          "base_uri": "https://localhost:8080/"
        },
        "id": "j5LlyUJE4iGN",
        "outputId": "2a2bcb52-503c-4982-9bec-f946e6bc57b7"
      },
      "execution_count": 82,
      "outputs": [
        {
          "output_type": "execute_result",
          "data": {
            "text/plain": [
              "True"
            ]
          },
          "metadata": {},
          "execution_count": 82
        }
      ]
    },
    {
      "cell_type": "markdown",
      "source": [
        "##Let's talk about the notion of loops (iterators)\n",
        "\n",
        "## Problem: Assume that you are given a list of integers,\n",
        "## you want to find the even integers in this list what do you need? \n",
        "# $X = [1,2,3,4,5,-1, 10, 100, 2]$\n"
      ],
      "metadata": {
        "id": "Gnz_qh5Y45po"
      }
    },
    {
      "cell_type": "code",
      "source": [
        "X = [1,2,3,4,5, -1, 10, 100, 2]\n",
        "for x in X:\n",
        "  ### do what ever you like here!!!!!!\n",
        "  ### any thing you can do!!!\n",
        "  if x % 2 == 0:\n",
        "    print(x)"
      ],
      "metadata": {
        "colab": {
          "base_uri": "https://localhost:8080/"
        },
        "id": "57uL_hJS5WjC",
        "outputId": "4b601f48-ec41-4ae8-f6a8-2bee35b41879"
      },
      "execution_count": 85,
      "outputs": [
        {
          "output_type": "stream",
          "name": "stdout",
          "text": [
            "2\n",
            "4\n",
            "10\n",
            "100\n",
            "2\n"
          ]
        }
      ]
    },
    {
      "cell_type": "code",
      "source": [
        "a = \"My name is yildirim akbal, I think therefore I am !!!!\""
      ],
      "metadata": {
        "id": "T5Sf0LlQ6ngL"
      },
      "execution_count": 86,
      "outputs": []
    },
    {
      "cell_type": "code",
      "source": [
        "for char in a: ### this guy prints out the characters in the string\n",
        "  print(char)"
      ],
      "metadata": {
        "id": "lZwiuO1Z6sV7"
      },
      "execution_count": null,
      "outputs": []
    },
    {
      "cell_type": "code",
      "source": [
        "a.__getitem__(1) ### the same as a[1]"
      ],
      "metadata": {
        "colab": {
          "base_uri": "https://localhost:8080/",
          "height": 35
        },
        "id": "2nARt_Up5Ng-",
        "outputId": "d117a240-9ca7-4538-e9b3-2ded0bb8331f"
      },
      "execution_count": 98,
      "outputs": [
        {
          "output_type": "execute_result",
          "data": {
            "text/plain": [
              "'y'"
            ],
            "application/vnd.google.colaboratory.intrinsic+json": {
              "type": "string"
            }
          },
          "metadata": {},
          "execution_count": 98
        }
      ]
    },
    {
      "cell_type": "markdown",
      "source": [
        "### break statement!!!!!!!!!!!!!!\n",
        "### continue statement !!!!!!!!"
      ],
      "metadata": {
        "id": "nzs77W8p7sZw"
      }
    },
    {
      "cell_type": "code",
      "source": [
        "for i in range(100000000000000000000000000000000000000000):\n",
        "  print(i)\n",
        "  if i == 10:\n",
        "    break\n",
        "  else:\n",
        "    continue\n",
        "### if a certain condition is satisfied then leave the loop and do not check the other conditions....\n"
      ],
      "metadata": {
        "colab": {
          "base_uri": "https://localhost:8080/"
        },
        "id": "6jFTyxpH7w2e",
        "outputId": "41932c52-9787-4e08-f899-d3f79372a8c6"
      },
      "execution_count": 105,
      "outputs": [
        {
          "output_type": "stream",
          "name": "stdout",
          "text": [
            "0\n",
            "1\n",
            "2\n",
            "3\n",
            "4\n",
            "5\n",
            "6\n",
            "7\n",
            "8\n",
            "9\n",
            "10\n"
          ]
        }
      ]
    },
    {
      "cell_type": "code",
      "source": [
        "L = []\n",
        "for i in range(100):\n",
        "  for j in range(100):\n",
        "    L.append(i*j)\n",
        "    if i*j == 9:\n",
        "      print(\"innermost loop is broken\")\n",
        "      break\n",
        "### In nested for loops, inner most loop is left when break is called once.\n",
        "### However outermost loop continues looping...."
      ],
      "metadata": {
        "colab": {
          "base_uri": "https://localhost:8080/"
        },
        "id": "GwrzncQQ9ECH",
        "outputId": "a1bb4f03-88d7-4ff9-ab70-1b3a8af9b9da"
      },
      "execution_count": 111,
      "outputs": [
        {
          "output_type": "stream",
          "name": "stdout",
          "text": [
            "innermost loop is broken\n",
            "innermost loop is broken\n",
            "innermost loop is broken\n"
          ]
        }
      ]
    },
    {
      "cell_type": "code",
      "source": [
        "### Habits you should forget before you learn them\n",
        "a = [1,-1, 23, 23, 12, 12]\n",
        "for i in range(len(a)):\n",
        "  print(a[i])  ### Thou shall not do this!!!!!!  ###instead\n",
        "for i in a:  ### this is better\n",
        "  print(i)"
      ],
      "metadata": {
        "colab": {
          "base_uri": "https://localhost:8080/"
        },
        "id": "RGyW1coJ438-",
        "outputId": "37c72033-9934-4481-e1e1-3aae3aa35126"
      },
      "execution_count": 143,
      "outputs": [
        {
          "output_type": "stream",
          "name": "stdout",
          "text": [
            "1\n",
            "-1\n",
            "23\n",
            "23\n",
            "12\n",
            "12\n",
            "1\n",
            "-1\n",
            "23\n",
            "23\n",
            "12\n",
            "12\n"
          ]
        }
      ]
    },
    {
      "cell_type": "code",
      "source": [
        "for i in range(len(a)):\n",
        "  print(i,a[i]) \n",
        "### There is a better way of doing this!!!"
      ],
      "metadata": {
        "colab": {
          "base_uri": "https://localhost:8080/"
        },
        "id": "evoxHtf2CJ2l",
        "outputId": "3c259622-e0cc-4864-ff6f-92ec36201213"
      },
      "execution_count": 145,
      "outputs": [
        {
          "output_type": "stream",
          "name": "stdout",
          "text": [
            "0 1\n",
            "1 -1\n",
            "2 23\n",
            "3 23\n",
            "4 12\n",
            "5 12\n"
          ]
        }
      ]
    },
    {
      "cell_type": "code",
      "source": [
        "for i, el in enumerate(a):\n",
        "  print(i, el)\n",
        "### There is a better way of doing this!!!"
      ],
      "metadata": {
        "colab": {
          "base_uri": "https://localhost:8080/"
        },
        "id": "yNA3BubSCiTJ",
        "outputId": "36a07ac6-101f-4f2b-c4b1-41a692fdb9ac"
      },
      "execution_count": 146,
      "outputs": [
        {
          "output_type": "stream",
          "name": "stdout",
          "text": [
            "0 1\n",
            "1 -1\n",
            "2 23\n",
            "3 23\n",
            "4 12\n",
            "5 12\n"
          ]
        }
      ]
    },
    {
      "cell_type": "code",
      "source": [
        "#### Zip function\n",
        "a = [1,2,3,4, -12,23]\n",
        "b = [12, -12, 123, 323 ,3, 10, 10, -1, 12312, 123123] \n",
        "for a_,b_ in zip(a,b):   ###in the case that the lengths are not the same short one is consider.\n",
        "  print(a_, b_)"
      ],
      "metadata": {
        "colab": {
          "base_uri": "https://localhost:8080/"
        },
        "id": "d-2L8SyBCtKr",
        "outputId": "a037d7d0-6455-4fb4-cb1b-e8c1757b0295"
      },
      "execution_count": 154,
      "outputs": [
        {
          "output_type": "stream",
          "name": "stdout",
          "text": [
            "1 12\n",
            "2 -12\n",
            "3 123\n",
            "4 323\n",
            "-12 3\n",
            "23 10\n"
          ]
        }
      ]
    },
    {
      "cell_type": "code",
      "source": [
        " #### the generators!\n",
        " def f(n,m):\n",
        "   for i in range(1,n+1):\n",
        "     for j in range(1,m+1):\n",
        "       yield i*j \n",
        "### This gives an generator object"
      ],
      "metadata": {
        "id": "-hOM8oWBC7cT"
      },
      "execution_count": 159,
      "outputs": []
    },
    {
      "cell_type": "code",
      "source": [
        "L = f(2,3)"
      ],
      "metadata": {
        "id": "NaM2Cv0uEhOO"
      },
      "execution_count": 167,
      "outputs": []
    },
    {
      "cell_type": "code",
      "source": [
        "for i in L:\n",
        "  print(i)"
      ],
      "metadata": {
        "colab": {
          "base_uri": "https://localhost:8080/"
        },
        "id": "TL1KO62CD5Rr",
        "outputId": "cf3474af-0b3c-4859-e6f3-9592b49c6ecd"
      },
      "execution_count": 168,
      "outputs": [
        {
          "output_type": "stream",
          "name": "stdout",
          "text": [
            "1\n",
            "2\n",
            "3\n",
            "2\n",
            "4\n",
            "6\n"
          ]
        }
      ]
    },
    {
      "cell_type": "markdown",
      "source": [
        "### An important concept with lists"
      ],
      "metadata": {
        "id": "7fJaSL4DFUmC"
      }
    },
    {
      "cell_type": "code",
      "source": [
        "def f(n:int) -> list:\n",
        "  L = []\n",
        "  for i in range(1, n+1):\n",
        "    L.append(i**2)\n",
        "  return L"
      ],
      "metadata": {
        "id": "Brj4GxVZFf4T"
      },
      "execution_count": 171,
      "outputs": []
    },
    {
      "cell_type": "code",
      "source": [
        "f(10)"
      ],
      "metadata": {
        "colab": {
          "base_uri": "https://localhost:8080/"
        },
        "id": "fo_On1SbFnjp",
        "outputId": "72177a03-0cfc-43b1-e1ce-79c3b1804987"
      },
      "execution_count": 172,
      "outputs": [
        {
          "output_type": "execute_result",
          "data": {
            "text/plain": [
              "[1, 4, 9, 16, 25, 36, 49, 64, 81, 100]"
            ]
          },
          "metadata": {},
          "execution_count": 172
        }
      ]
    },
    {
      "cell_type": "code",
      "source": [
        "[i**2 for i in range(1, 11)]"
      ],
      "metadata": {
        "colab": {
          "base_uri": "https://localhost:8080/"
        },
        "id": "M9UOEBRhFOvr",
        "outputId": "8eb4df29-4955-4427-ff72-93cd46cf3020"
      },
      "execution_count": 175,
      "outputs": [
        {
          "output_type": "execute_result",
          "data": {
            "text/plain": [
              "[1, 4, 9, 16, 25, 36, 49, 64, 81, 100]"
            ]
          },
          "metadata": {},
          "execution_count": 175
        }
      ]
    },
    {
      "cell_type": "code",
      "source": [
        "f = lambda n : [i**2 for i in range(1,n+1)]"
      ],
      "metadata": {
        "id": "bykuCbkZGN3N"
      },
      "execution_count": 176,
      "outputs": []
    },
    {
      "cell_type": "code",
      "source": [
        "a = \"DİSK-AR'ın Emekli İkramiyesi Nasıl Eridi? başlıklı raporunda resmi enflasyonun son 5 yılda yüzde 269, resmi gıda enflasyonun ise yüzde 362 artarken emekli bayram ikramiyesi sadece yüzde 10 arttığı belirtildi. \""
      ],
      "metadata": {
        "id": "IyzQsTAcGS5U"
      },
      "execution_count": 184,
      "outputs": []
    },
    {
      "cell_type": "code",
      "source": [
        "#### First question\n",
        "### How do you find unique characters in this string?\n",
        "### Motto: Keep it stupidly simply\n",
        "def return_unique_charc(a:str)->set:\n",
        "  A = set()\n",
        "  for char in a:\n",
        "    A.add(char)\n",
        "  return A"
      ],
      "metadata": {
        "id": "J2t1z2l2HGb3"
      },
      "execution_count": 179,
      "outputs": []
    },
    {
      "cell_type": "code",
      "source": [
        "uniq_char = return_unique_charc(a);"
      ],
      "metadata": {
        "id": "D8HOVQ5rH-UQ"
      },
      "execution_count": 182,
      "outputs": []
    },
    {
      "cell_type": "code",
      "source": [
        "#### Second question: I would like to find out frequency of characters:\n",
        "def return_frqs(a:str)->dict:\n",
        "  uniq_char = return_unique_charc(a)\n",
        "  dict_ = {char:0 for char in uniq_char}\n",
        "  for char in a:\n",
        "    dict_[char] += 1\n",
        "  return dict_"
      ],
      "metadata": {
        "id": "tA7wNCv_IToj"
      },
      "execution_count": 189,
      "outputs": []
    },
    {
      "cell_type": "code",
      "source": [
        "L = dict()"
      ],
      "metadata": {
        "id": "CEIvNSsvKaQY"
      },
      "execution_count": 198,
      "outputs": []
    },
    {
      "cell_type": "code",
      "source": [
        "#### Second question: I would like to find out frequency of characters:\n",
        "def return_frqs(a:str)->dict:\n",
        "  dict_ = {}\n",
        "  for char in a:\n",
        "    if char in dict_.keys():\n",
        "      dict_[char] += 1\n",
        "    else:\n",
        "      dict_[char] = 1\n",
        "  return dict_"
      ],
      "metadata": {
        "id": "qAw3HRqZJ5P4"
      },
      "execution_count": 196,
      "outputs": []
    },
    {
      "cell_type": "code",
      "source": [
        "return_frqs(a);"
      ],
      "metadata": {
        "id": "1uFNO2oOKHOl"
      },
      "execution_count": 203,
      "outputs": []
    },
    {
      "cell_type": "code",
      "source": [
        "import random\n",
        "L = [random.randint(-100, 100) for i in range(1000)]"
      ],
      "metadata": {
        "id": "V0c4XWx4KrmL"
      },
      "execution_count": 208,
      "outputs": []
    },
    {
      "cell_type": "code",
      "source": [
        "####First question \n",
        "# [-2, 1, 3, -1] -> [-2, -1, 1, 3]  sorted this array \n",
        "L; ### this guy is an array of integers"
      ],
      "metadata": {
        "id": "idvmCP66K55i"
      },
      "execution_count": 213,
      "outputs": []
    },
    {
      "cell_type": "code",
      "source": [
        "####Question how do we check that this array is sorted?\n",
        "def check_ifsorted(L:list)->bool:\n",
        "  N = len(L)\n",
        "  sorted = True\n",
        "  for i in range(N-1):\n",
        "    if L[i] <= L[i+1]:\n",
        "      continue\n",
        "    else:\n",
        "      sorted = False\n",
        "      break\n",
        "  return sorted"
      ],
      "metadata": {
        "id": "1g0LewSVLos1"
      },
      "execution_count": 232,
      "outputs": []
    },
    {
      "cell_type": "code",
      "source": [
        "L.sort()  #### sorts the list"
      ],
      "metadata": {
        "id": "zHgs4AY5Lllt"
      },
      "execution_count": 241,
      "outputs": []
    },
    {
      "cell_type": "code",
      "source": [
        "L.reverse()  ### changes the order (in general)"
      ],
      "metadata": {
        "id": "zX6fYicsK0at"
      },
      "execution_count": 244,
      "outputs": []
    },
    {
      "cell_type": "code",
      "source": [
        "list_ = [-1, 2, 3, 4]"
      ],
      "metadata": {
        "id": "RgtOt4zpRZLD"
      },
      "execution_count": 249,
      "outputs": []
    },
    {
      "cell_type": "code",
      "source": [
        "list_[::-1]  ### change the order"
      ],
      "metadata": {
        "colab": {
          "base_uri": "https://localhost:8080/"
        },
        "id": "33IdTczmRuON",
        "outputId": "8cc53402-1879-466a-8510-ef7442df6185"
      },
      "execution_count": 255,
      "outputs": [
        {
          "output_type": "execute_result",
          "data": {
            "text/plain": [
              "[4, 3, 2, -1]"
            ]
          },
          "metadata": {},
          "execution_count": 255
        }
      ]
    },
    {
      "cell_type": "code",
      "source": [
        "from math import inf\n",
        "###inf is the largest number, and -inf is the smallest number"
      ],
      "metadata": {
        "colab": {
          "base_uri": "https://localhost:8080/"
        },
        "id": "CZ5zIgl8SQAc",
        "outputId": "a253ede3-5b19-486a-d619-494bea7f31b7"
      },
      "execution_count": 258,
      "outputs": [
        {
          "output_type": "execute_result",
          "data": {
            "text/plain": [
              "inf"
            ]
          },
          "metadata": {},
          "execution_count": 258
        }
      ]
    },
    {
      "cell_type": "code",
      "source": [
        "def f(x):\n",
        "  return x**2"
      ],
      "metadata": {
        "id": "IfPhzxFlWl8i"
      },
      "execution_count": 295,
      "outputs": []
    },
    {
      "cell_type": "code",
      "source": [
        "dir(math)"
      ],
      "metadata": {
        "id": "iXy4b1zqSf5X"
      },
      "execution_count": null,
      "outputs": []
    },
    {
      "cell_type": "code",
      "source": [
        "#### How do we find the minimum element and its argument of an array of floats? (there maybe morethan one such elements)\n",
        "### pick only one\n",
        "def min_pic(L:list) -> tuple:\n",
        "  x = inf\n",
        "  arg = 0\n",
        "  for arg_, val in enumerate(L):\n",
        "    if x >= val:\n",
        "      x = val\n",
        "      arg = arg_\n",
        "  return x, arg"
      ],
      "metadata": {
        "id": "1zUW-W8GR5c0"
      },
      "execution_count": 272,
      "outputs": []
    },
    {
      "cell_type": "code",
      "source": [
        "min_pic([-40, -10, 1, 2, 4, -40])"
      ],
      "metadata": {
        "colab": {
          "base_uri": "https://localhost:8080/"
        },
        "id": "qp0mF528T43t",
        "outputId": "fac81cef-8270-49b8-cfc1-d9e75c782c02"
      },
      "execution_count": 273,
      "outputs": [
        {
          "output_type": "execute_result",
          "data": {
            "text/plain": [
              "(-40, 5)"
            ]
          },
          "metadata": {},
          "execution_count": 273
        }
      ]
    },
    {
      "cell_type": "code",
      "source": [
        "min([-40, -10, 1, 2, 4, -40])"
      ],
      "metadata": {
        "colab": {
          "base_uri": "https://localhost:8080/"
        },
        "id": "N_0NfDAPUdcp",
        "outputId": "35e5e8dc-3a4b-4859-9cf2-16b10a2a90db"
      },
      "execution_count": 274,
      "outputs": [
        {
          "output_type": "execute_result",
          "data": {
            "text/plain": [
              "-40"
            ]
          },
          "metadata": {},
          "execution_count": 274
        }
      ]
    },
    {
      "cell_type": "code",
      "source": [
        "[-40, -10, 1, 2, 4, -40].index(-40)"
      ],
      "metadata": {
        "colab": {
          "base_uri": "https://localhost:8080/"
        },
        "id": "bUjV-isYUfVQ",
        "outputId": "b5296426-1848-4821-bfb5-9c8ced9af5f2"
      },
      "execution_count": 275,
      "outputs": [
        {
          "output_type": "execute_result",
          "data": {
            "text/plain": [
              "0"
            ]
          },
          "metadata": {},
          "execution_count": 275
        }
      ]
    },
    {
      "cell_type": "code",
      "source": [
        "#5! = 5*4*3*2*1\n",
        "def factorial(n:int)->int:\n",
        "  i = 1\n",
        "  for j in range(1,n+1):\n",
        "    i *= j\n",
        "  return i"
      ],
      "metadata": {
        "id": "3g_OkG12UjQc"
      },
      "execution_count": 276,
      "outputs": []
    },
    {
      "cell_type": "code",
      "source": [
        "def factorial(n:int):  #### this is called recursion. WE do not use it a lot as it requiers a bit care, \n",
        "  if n == 1 or n == 0:\n",
        "    return 1\n",
        "  return n*factorial(n-1)"
      ],
      "metadata": {
        "id": "dk6jdf3CVHHC"
      },
      "execution_count": 287,
      "outputs": []
    },
    {
      "cell_type": "code",
      "source": [
        "factorial(0)"
      ],
      "metadata": {
        "colab": {
          "base_uri": "https://localhost:8080/"
        },
        "id": "68OQboT5VRcV",
        "outputId": "adc9fe47-734e-46f2-ce3d-88613d592e4e"
      },
      "execution_count": 288,
      "outputs": [
        {
          "output_type": "execute_result",
          "data": {
            "text/plain": [
              "1"
            ]
          },
          "metadata": {},
          "execution_count": 288
        }
      ]
    },
    {
      "cell_type": "code",
      "source": [
        "factorial(10)"
      ],
      "metadata": {
        "colab": {
          "base_uri": "https://localhost:8080/"
        },
        "id": "UurVwYrfU4at",
        "outputId": "16a0a7bf-754a-47be-96a7-30fc4ddc0dce"
      },
      "execution_count": 289,
      "outputs": [
        {
          "output_type": "execute_result",
          "data": {
            "text/plain": [
              "3628800"
            ]
          },
          "metadata": {},
          "execution_count": 289
        }
      ]
    }
  ]
}